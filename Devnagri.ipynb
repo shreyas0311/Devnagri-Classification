{
 "cells": [
  {
   "cell_type": "markdown",
   "id": "3bb1a1f8-a66c-422a-8b36-a059fc3df790",
   "metadata": {},
   "source": [
    "# Devnagri Dataset"
   ]
  },
  {
   "cell_type": "markdown",
   "id": "c1718250-3fa2-4ae7-b2d2-cc3a6ff7320f",
   "metadata": {},
   "source": [
    "### Context\n",
    "This is a dataset of Devanagari Script Characters. It comprises of 92000 images [32x32 px] corresponding to 46 characters, consonants \"ka\" to \"gya\", and the digits 0 to 9. The vowels are missing.\n",
    "\n",
    "### Content\n",
    "The CSV file is of the dimension 92000 * 1025. There are 1024 input features of pixel values in grayscale (0 to 255). The column \"character\" represents the Devanagari Character Name corresponding to each image.\n",
    "\n",
    "[Link To Dataset](https://www.kaggle.com/rishianand/devanagari-character-set)"
   ]
  },
  {
   "cell_type": "markdown",
   "id": "28a3c009-26a4-4112-a046-6997ff2a1a51",
   "metadata": {},
   "source": [
    "## 1. Imports"
   ]
  },
  {
   "cell_type": "code",
   "execution_count": 1,
   "id": "74fc5465-7450-48ad-8804-09612dd0ebeb",
   "metadata": {},
   "outputs": [],
   "source": [
    "import tensorflow as tf\n",
    "import matplotlib.pyplot as plt\n",
    "import tensorflow.keras.layers as layers\n",
    "from mpl_toolkits.axes_grid1 import ImageGrid\n",
    "import numpy as np\n",
    "import pandas as pd\n",
    "from sklearn.model_selection import train_test_split\n",
    "from sklearn.preprocessing import LabelEncoder\n",
    "from sklearn.preprocessing import OneHotEncoder"
   ]
  },
  {
   "cell_type": "markdown",
   "id": "e274412a-e39b-448d-9698-3dd9977c9474",
   "metadata": {},
   "source": [
    "## 2. Reading Data"
   ]
  },
  {
   "cell_type": "code",
   "execution_count": 2,
   "id": "b79e44c7-fc5f-4446-abbe-f664422ddf30",
   "metadata": {},
   "outputs": [
    {
     "data": {
      "text/html": [
       "<div>\n",
       "<style scoped>\n",
       "    .dataframe tbody tr th:only-of-type {\n",
       "        vertical-align: middle;\n",
       "    }\n",
       "\n",
       "    .dataframe tbody tr th {\n",
       "        vertical-align: top;\n",
       "    }\n",
       "\n",
       "    .dataframe thead th {\n",
       "        text-align: right;\n",
       "    }\n",
       "</style>\n",
       "<table border=\"1\" class=\"dataframe\">\n",
       "  <thead>\n",
       "    <tr style=\"text-align: right;\">\n",
       "      <th></th>\n",
       "      <th>pixel_0000</th>\n",
       "      <th>pixel_0001</th>\n",
       "      <th>pixel_0002</th>\n",
       "      <th>pixel_0003</th>\n",
       "      <th>pixel_0004</th>\n",
       "      <th>pixel_0005</th>\n",
       "      <th>pixel_0006</th>\n",
       "      <th>pixel_0007</th>\n",
       "      <th>pixel_0008</th>\n",
       "      <th>pixel_0009</th>\n",
       "      <th>...</th>\n",
       "      <th>pixel_1015</th>\n",
       "      <th>pixel_1016</th>\n",
       "      <th>pixel_1017</th>\n",
       "      <th>pixel_1018</th>\n",
       "      <th>pixel_1019</th>\n",
       "      <th>pixel_1020</th>\n",
       "      <th>pixel_1021</th>\n",
       "      <th>pixel_1022</th>\n",
       "      <th>pixel_1023</th>\n",
       "      <th>character</th>\n",
       "    </tr>\n",
       "  </thead>\n",
       "  <tbody>\n",
       "    <tr>\n",
       "      <th>0</th>\n",
       "      <td>0</td>\n",
       "      <td>0</td>\n",
       "      <td>0</td>\n",
       "      <td>0</td>\n",
       "      <td>0</td>\n",
       "      <td>0</td>\n",
       "      <td>0</td>\n",
       "      <td>0</td>\n",
       "      <td>0</td>\n",
       "      <td>0</td>\n",
       "      <td>...</td>\n",
       "      <td>0</td>\n",
       "      <td>0</td>\n",
       "      <td>0</td>\n",
       "      <td>0</td>\n",
       "      <td>0</td>\n",
       "      <td>0</td>\n",
       "      <td>0</td>\n",
       "      <td>0</td>\n",
       "      <td>0</td>\n",
       "      <td>character_01_ka</td>\n",
       "    </tr>\n",
       "    <tr>\n",
       "      <th>1</th>\n",
       "      <td>0</td>\n",
       "      <td>0</td>\n",
       "      <td>0</td>\n",
       "      <td>0</td>\n",
       "      <td>0</td>\n",
       "      <td>0</td>\n",
       "      <td>0</td>\n",
       "      <td>0</td>\n",
       "      <td>0</td>\n",
       "      <td>0</td>\n",
       "      <td>...</td>\n",
       "      <td>0</td>\n",
       "      <td>0</td>\n",
       "      <td>0</td>\n",
       "      <td>0</td>\n",
       "      <td>0</td>\n",
       "      <td>0</td>\n",
       "      <td>0</td>\n",
       "      <td>0</td>\n",
       "      <td>0</td>\n",
       "      <td>character_01_ka</td>\n",
       "    </tr>\n",
       "    <tr>\n",
       "      <th>2</th>\n",
       "      <td>0</td>\n",
       "      <td>0</td>\n",
       "      <td>0</td>\n",
       "      <td>0</td>\n",
       "      <td>0</td>\n",
       "      <td>0</td>\n",
       "      <td>0</td>\n",
       "      <td>0</td>\n",
       "      <td>0</td>\n",
       "      <td>0</td>\n",
       "      <td>...</td>\n",
       "      <td>0</td>\n",
       "      <td>0</td>\n",
       "      <td>0</td>\n",
       "      <td>0</td>\n",
       "      <td>0</td>\n",
       "      <td>0</td>\n",
       "      <td>0</td>\n",
       "      <td>0</td>\n",
       "      <td>0</td>\n",
       "      <td>character_01_ka</td>\n",
       "    </tr>\n",
       "    <tr>\n",
       "      <th>3</th>\n",
       "      <td>0</td>\n",
       "      <td>0</td>\n",
       "      <td>0</td>\n",
       "      <td>0</td>\n",
       "      <td>0</td>\n",
       "      <td>0</td>\n",
       "      <td>0</td>\n",
       "      <td>0</td>\n",
       "      <td>0</td>\n",
       "      <td>0</td>\n",
       "      <td>...</td>\n",
       "      <td>0</td>\n",
       "      <td>0</td>\n",
       "      <td>0</td>\n",
       "      <td>0</td>\n",
       "      <td>0</td>\n",
       "      <td>0</td>\n",
       "      <td>0</td>\n",
       "      <td>0</td>\n",
       "      <td>0</td>\n",
       "      <td>character_01_ka</td>\n",
       "    </tr>\n",
       "    <tr>\n",
       "      <th>4</th>\n",
       "      <td>0</td>\n",
       "      <td>0</td>\n",
       "      <td>0</td>\n",
       "      <td>0</td>\n",
       "      <td>0</td>\n",
       "      <td>0</td>\n",
       "      <td>0</td>\n",
       "      <td>0</td>\n",
       "      <td>0</td>\n",
       "      <td>0</td>\n",
       "      <td>...</td>\n",
       "      <td>0</td>\n",
       "      <td>0</td>\n",
       "      <td>0</td>\n",
       "      <td>0</td>\n",
       "      <td>0</td>\n",
       "      <td>0</td>\n",
       "      <td>0</td>\n",
       "      <td>0</td>\n",
       "      <td>0</td>\n",
       "      <td>character_01_ka</td>\n",
       "    </tr>\n",
       "  </tbody>\n",
       "</table>\n",
       "<p>5 rows × 1025 columns</p>\n",
       "</div>"
      ],
      "text/plain": [
       "   pixel_0000  pixel_0001  pixel_0002  pixel_0003  pixel_0004  pixel_0005  \\\n",
       "0           0           0           0           0           0           0   \n",
       "1           0           0           0           0           0           0   \n",
       "2           0           0           0           0           0           0   \n",
       "3           0           0           0           0           0           0   \n",
       "4           0           0           0           0           0           0   \n",
       "\n",
       "   pixel_0006  pixel_0007  pixel_0008  pixel_0009  ...  pixel_1015  \\\n",
       "0           0           0           0           0  ...           0   \n",
       "1           0           0           0           0  ...           0   \n",
       "2           0           0           0           0  ...           0   \n",
       "3           0           0           0           0  ...           0   \n",
       "4           0           0           0           0  ...           0   \n",
       "\n",
       "   pixel_1016  pixel_1017  pixel_1018  pixel_1019  pixel_1020  pixel_1021  \\\n",
       "0           0           0           0           0           0           0   \n",
       "1           0           0           0           0           0           0   \n",
       "2           0           0           0           0           0           0   \n",
       "3           0           0           0           0           0           0   \n",
       "4           0           0           0           0           0           0   \n",
       "\n",
       "   pixel_1022  pixel_1023        character  \n",
       "0           0           0  character_01_ka  \n",
       "1           0           0  character_01_ka  \n",
       "2           0           0  character_01_ka  \n",
       "3           0           0  character_01_ka  \n",
       "4           0           0  character_01_ka  \n",
       "\n",
       "[5 rows x 1025 columns]"
      ]
     },
     "execution_count": 2,
     "metadata": {},
     "output_type": "execute_result"
    }
   ],
   "source": [
    "df = pd.read_csv('data.csv')\n",
    "df.head()"
   ]
  },
  {
   "cell_type": "markdown",
   "id": "71793659-78d3-4304-8591-3ff05f1c19f1",
   "metadata": {},
   "source": [
    "## 3. Displaying Data"
   ]
  },
  {
   "cell_type": "code",
   "execution_count": 3,
   "id": "a3c8e681-0c66-4335-9e78-75af6feb18f6",
   "metadata": {},
   "outputs": [
    {
     "data": {
      "image/png": "[encoded data removed]",
      "text/plain": [
       "<Figure size 576x1152 with 16 Axes>"
      ]
     },
     "metadata": {
      "needs_background": "light"
     },
     "output_type": "display_data"
    }
   ],
   "source": [
    "img_cols = df.columns[:1024]\n",
    "\n",
    "imgs = []\n",
    "inds = np.random.random_sample((8, ))\n",
    "inds = map(lambda x: int(x*10000), inds)\n",
    "for ind in inds:\n",
    "    x = df.loc[ind, img_cols]\n",
    "    x = np.array(x, dtype=float)\n",
    "    x = x.reshape(32,32)\n",
    "    imgs.append(x)\n",
    "    \n",
    "fig = plt.figure(figsize=(8., 16.))\n",
    "grid = ImageGrid(fig, 111,\n",
    "                 nrows_ncols=(2, 4), \n",
    "                 axes_pad=0.1,\n",
    "                 )\n",
    "for ax, im in zip(grid, imgs):\n",
    "    ax.imshow(im)\n",
    "\n",
    "plt.show()    "
   ]
  },
  {
   "cell_type": "markdown",
   "id": "e0d88a4b-265b-42a9-8249-407643502b8a",
   "metadata": {},
   "source": [
    "## 4. Processing Data"
   ]
  },
  {
   "cell_type": "code",
   "execution_count": 4,
   "id": "465bbc35-800f-4428-b1d9-e5c9d9e04ed8",
   "metadata": {},
   "outputs": [],
   "source": [
    "X = df[img_cols]\n",
    "Y = df['character']\n",
    "X = X.applymap(lambda x: x/255)"
   ]
  },
  {
   "cell_type": "code",
   "execution_count": 5,
   "id": "8feafd52-e65d-496a-a217-b80f83a7ae77",
   "metadata": {},
   "outputs": [
    {
     "data": {
      "text/plain": [
       "array([[ 0],\n",
       "       [ 0],\n",
       "       [ 0],\n",
       "       ...,\n",
       "       [45],\n",
       "       [45],\n",
       "       [45]])"
      ]
     },
     "execution_count": 5,
     "metadata": {},
     "output_type": "execute_result"
    }
   ],
   "source": [
    "X = X.to_numpy()\n",
    "Y = Y.to_numpy()\n",
    "label_encoder = LabelEncoder()\n",
    "integer_encoded = label_encoder.fit_transform(Y)\n",
    "onehot_encoder = OneHotEncoder(sparse=False)\n",
    "integer_encoded = integer_encoded.reshape(len(integer_encoded), 1)\n",
    "integer_encoded"
   ]
  },
  {
   "cell_type": "code",
   "execution_count": 6,
   "id": "ebb13261-c3c4-49c7-b19c-5983d0925ac4",
   "metadata": {},
   "outputs": [],
   "source": [
    "x_train, x_test, y_train, y_test = train_test_split(X, integer_encoded, test_size=0.2, random_state=123)"
   ]
  },
  {
   "cell_type": "code",
   "execution_count": 7,
   "id": "f13a944d-a4a4-468c-ba2c-284ada840b69",
   "metadata": {},
   "outputs": [
    {
     "data": {
      "text/plain": [
       "(73600, 1024)"
      ]
     },
     "execution_count": 7,
     "metadata": {},
     "output_type": "execute_result"
    }
   ],
   "source": [
    "x_train.shape"
   ]
  },
  {
   "cell_type": "markdown",
   "id": "31929ed9-d498-4c27-9744-69dc44082b79",
   "metadata": {},
   "source": [
    "## 5. Simple Model"
   ]
  },
  {
   "cell_type": "code",
   "execution_count": 8,
   "id": "af137dec-10b4-4431-bd8e-bc171ead99f9",
   "metadata": {},
   "outputs": [
    {
     "name": "stdout",
     "output_type": "stream",
     "text": [
      "Model: \"sequential\"\n",
      "_________________________________________________________________\n",
      " Layer (type)                Output Shape              Param #   \n",
      "=================================================================\n",
      " flatten (Flatten)           (None, 1024)              0         \n",
      "                                                                 \n",
      " dense (Dense)               (None, 700)               717500    \n",
      "                                                                 \n",
      " dense_1 (Dense)             (None, 500)               350500    \n",
      "                                                                 \n",
      " dense_2 (Dense)             (None, 300)               150300    \n",
      "                                                                 \n",
      " dropout (Dropout)           (None, 300)               0         \n",
      "                                                                 \n",
      " dense_3 (Dense)             (None, 46)                13846     \n",
      "                                                                 \n",
      "=================================================================\n",
      "Total params: 1,232,146\n",
      "Trainable params: 1,232,146\n",
      "Non-trainable params: 0\n",
      "_________________________________________________________________\n"
     ]
    }
   ],
   "source": [
    "input_shape = (1024, )\n",
    "\n",
    "model = tf.keras.Sequential(\n",
    "    [\n",
    "        layers.Flatten(input_shape=input_shape),\n",
    "        layers.Dense(700, activation='relu'),\n",
    "        layers.Dense(500, activation='relu'),\n",
    "        layers.Dense(300, activation='relu'),\n",
    "        layers.Dropout(0.3),\n",
    "        layers.Dense(46, activation='softmax')\n",
    "    ]\n",
    ")\n",
    "\n",
    "model.summary()"
   ]
  },
  {
   "cell_type": "code",
   "execution_count": 9,
   "id": "68516aa9-8ecc-4406-b489-f5150a998e2b",
   "metadata": {},
   "outputs": [],
   "source": [
    "num_classes = 46\n",
    "y_train = tf.keras.utils.to_categorical(y_train, num_classes)\n",
    "y_test = tf.keras.utils.to_categorical(y_test, num_classes)"
   ]
  },
  {
   "cell_type": "markdown",
   "id": "f581e7a2-14b2-484c-8df4-7016579b2d98",
   "metadata": {},
   "source": [
    "## 6. Training Data"
   ]
  },
  {
   "cell_type": "code",
   "execution_count": 10,
   "id": "3dc4e23c-60e4-4129-9585-2d02477da845",
   "metadata": {},
   "outputs": [
    {
     "name": "stdout",
     "output_type": "stream",
     "text": [
      "Epoch 1/15\n",
      "518/518 [==============================] - 8s 9ms/step - loss: 1.0420 - accuracy: 0.7085 - val_loss: 0.4414 - val_accuracy: 0.8692\n",
      "Epoch 2/15\n",
      "518/518 [==============================] - 4s 8ms/step - loss: 0.3654 - accuracy: 0.8919 - val_loss: 0.3017 - val_accuracy: 0.9107\n",
      "Epoch 3/15\n",
      "518/518 [==============================] - 4s 8ms/step - loss: 0.2251 - accuracy: 0.9314 - val_loss: 0.2466 - val_accuracy: 0.9260\n",
      "Epoch 4/15\n",
      "518/518 [==============================] - 4s 8ms/step - loss: 0.1554 - accuracy: 0.9505 - val_loss: 0.2340 - val_accuracy: 0.9341\n",
      "Epoch 5/15\n",
      "518/518 [==============================] - 4s 8ms/step - loss: 0.1226 - accuracy: 0.9608 - val_loss: 0.2433 - val_accuracy: 0.9341\n",
      "Epoch 6/15\n",
      "518/518 [==============================] - 4s 8ms/step - loss: 0.0993 - accuracy: 0.9681 - val_loss: 0.2336 - val_accuracy: 0.9375\n",
      "Epoch 7/15\n",
      "518/518 [==============================] - 4s 8ms/step - loss: 0.0857 - accuracy: 0.9724 - val_loss: 0.2295 - val_accuracy: 0.9409\n",
      "Epoch 8/15\n",
      "518/518 [==============================] - 4s 8ms/step - loss: 0.0746 - accuracy: 0.9756 - val_loss: 0.2297 - val_accuracy: 0.9402\n",
      "Epoch 9/15\n",
      "518/518 [==============================] - 4s 8ms/step - loss: 0.0707 - accuracy: 0.9766 - val_loss: 0.2325 - val_accuracy: 0.9451\n",
      "Epoch 10/15\n",
      "518/518 [==============================] - 4s 8ms/step - loss: 0.0614 - accuracy: 0.9805 - val_loss: 0.2094 - val_accuracy: 0.9477\n",
      "Epoch 11/15\n",
      "518/518 [==============================] - 4s 8ms/step - loss: 0.0538 - accuracy: 0.9824 - val_loss: 0.2346 - val_accuracy: 0.9408\n",
      "Epoch 12/15\n",
      "518/518 [==============================] - 4s 8ms/step - loss: 0.0571 - accuracy: 0.9818 - val_loss: 0.2521 - val_accuracy: 0.9432\n",
      "Epoch 13/15\n",
      "518/518 [==============================] - 4s 8ms/step - loss: 0.0530 - accuracy: 0.9831 - val_loss: 0.2458 - val_accuracy: 0.9433\n",
      "Epoch 14/15\n",
      "518/518 [==============================] - 4s 8ms/step - loss: 0.0488 - accuracy: 0.9845 - val_loss: 0.2752 - val_accuracy: 0.9394\n",
      "Epoch 15/15\n",
      "518/518 [==============================] - 4s 8ms/step - loss: 0.0530 - accuracy: 0.9839 - val_loss: 0.2517 - val_accuracy: 0.9444\n"
     ]
    }
   ],
   "source": [
    "batch_size = 128\n",
    "epochs = 15\n",
    "\n",
    "model.compile(loss=\"categorical_crossentropy\", optimizer=\"adam\", metrics=[\"accuracy\"])\n",
    "\n",
    "history = model.fit(x_train, y_train, batch_size=batch_size, epochs=epochs, validation_split=0.1)"
   ]
  },
  {
   "cell_type": "markdown",
   "id": "06b47bbf-9a0d-45fe-8942-6755bf3ea0ee",
   "metadata": {},
   "source": [
    "## 7. Analyzing Training Data"
   ]
  },
  {
   "cell_type": "code",
   "execution_count": 11,
   "id": "fcfab572-ba98-4f97-9f83-63376df3d149",
   "metadata": {},
   "outputs": [
    {
     "name": "stdout",
     "output_type": "stream",
     "text": [
      "Test loss: 0.2623848021030426\n",
      "Test accuracy: 0.9424999952316284\n"
     ]
    }
   ],
   "source": [
    "score = model.evaluate(x_test, y_test, verbose=0)\n",
    "print(\"Test loss:\", score[0])\n",
    "print(\"Test accuracy:\", score[1])"
   ]
  },
  {
   "cell_type": "code",
   "execution_count": 12,
   "id": "d63479da-4ef8-4fb5-af3a-b4dd487b3d78",
   "metadata": {},
   "outputs": [
    {
     "data": {
      "image/png": "[encoded data removed]",
      "text/plain": [
       "<Figure size 432x288 with 1 Axes>"
      ]
     },
     "metadata": {
      "needs_background": "light"
     },
     "output_type": "display_data"
    }
   ],
   "source": [
    "plt.plot(history.history['accuracy'])\n",
    "plt.plot(history.history['val_accuracy'])\n",
    "plt.title('model accuracy')\n",
    "plt.ylabel('accuracy')\n",
    "plt.xlabel('epoch')\n",
    "plt.legend(['train', 'test'], loc='upper left')\n",
    "plt.show()"
   ]
  },
  {
   "cell_type": "code",
   "execution_count": 13,
   "id": "1217a974-fb8d-4ed6-a1c1-6a99b31f9eb7",
   "metadata": {},
   "outputs": [
    {
     "data": {
      "image/png": "[encoded data removed]",
      "text/plain": [
       "<Figure size 432x288 with 1 Axes>"
      ]
     },
     "metadata": {
      "needs_background": "light"
     },
     "output_type": "display_data"
    }
   ],
   "source": [
    "plt.plot(history.history['loss'])\n",
    "plt.plot(history.history['val_loss'])\n",
    "plt.title('model loss')\n",
    "plt.ylabel('loss')\n",
    "plt.xlabel('epoch')\n",
    "plt.legend(['train', 'test'], loc='upper left')\n",
    "plt.show()"
   ]
  },
  {
   "cell_type": "markdown",
   "id": "84d01f38-1b1e-4e6c-8587-838a6bec4cd5",
   "metadata": {},
   "source": [
    "## 8. Saving Model"
   ]
  },
  {
   "cell_type": "code",
   "execution_count": 14,
   "id": "0cd29a96-7f14-4bab-a5ee-a6ef2a258ef3",
   "metadata": {},
   "outputs": [],
   "source": [
    "model.save('dev_simple.h5')"
   ]
  }
 ],
 "metadata": {
  "kernelspec": {
   "display_name": "Python 3 (ipykernel)",
   "language": "python",
   "name": "python3"
  },
  "language_info": {
   "codemirror_mode": {
    "name": "ipython",
    "version": 3
   },
   "file_extension": ".py",
   "mimetype": "text/x-python",
   "name": "python",
   "nbconvert_exporter": "python",
   "pygments_lexer": "ipython3",
   "version": "3.9.7"
  }
 },
 "nbformat": 4,
 "nbformat_minor": 5
}
